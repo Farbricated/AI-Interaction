{
  "nbformat": 4,
  "nbformat_minor": 0,
  "metadata": {
    "colab": {
      "provenance": [],
      "gpuType": "T4"
    },
    "kernelspec": {
      "name": "python3",
      "display_name": "Python 3"
    },
    "language_info": {
      "name": "python"
    },
    "accelerator": "GPU"
  },
  "cells": [
    {
      "cell_type": "code",
      "execution_count": null,
      "metadata": {
        "id": "5Rblyl_HsG86"
      },
      "outputs": [],
      "source": [
        "pip install gymnasium stable-baselines3 torch gradio\n"
      ]
    },
    {
      "cell_type": "code",
      "source": [
        "import gymnasium as gym\n",
        "from stable_baselines3 import PPO\n",
        "import numpy as np\n",
        "\n",
        "class WebAutomationEnv(gym.Env):\n",
        "    def __init__(self):\n",
        "        super(WebAutomationEnv, self).__init__()\n",
        "        self.state = 0\n",
        "        self.action_space = gym.spaces.Discrete(3)\n",
        "        self.observation_space = gym.spaces.Discrete(10)\n",
        "\n",
        "    def step(self, action):\n",
        "        reward = 0\n",
        "        if action == 0:\n",
        "            reward = 1\n",
        "        elif action == 1:\n",
        "            reward = 0.5\n",
        "        elif action == 2:\n",
        "            reward = 2\n",
        "\n",
        "        self.state = (self.state + 1) % 10\n",
        "        done = self.state == 9\n",
        "        return self.state, reward, done, False, {}\n",
        "\n",
        "    def reset(self, seed=None):\n",
        "        super().reset(seed=seed)\n",
        "        self.state = 0\n",
        "        return self.state, {}\n"
      ],
      "metadata": {
        "id": "TJkCXNdMsXmE"
      },
      "execution_count": null,
      "outputs": []
    },
    {
      "cell_type": "code",
      "source": [
        "env = WebAutomationEnv()\n",
        "model = PPO(\"MlpPolicy\", env, verbose=1, device=\"cuda\")\n",
        "model.learn(total_timesteps=5000)\n"
      ],
      "metadata": {
        "colab": {
          "base_uri": "https://localhost:8080/"
        },
        "id": "U0KGdHxosbgU",
        "outputId": "bd761f9b-8e6d-4458-a83a-1663420841fc"
      },
      "execution_count": null,
      "outputs": [
        {
          "output_type": "stream",
          "name": "stdout",
          "text": [
            "Using cuda device\n",
            "Wrapping the env with a `Monitor` wrapper\n",
            "Wrapping the env in a DummyVecEnv.\n",
            "---------------------------------\n",
            "| rollout/           |          |\n",
            "|    ep_len_mean     | 9        |\n",
            "|    ep_rew_mean     | 11       |\n",
            "| time/              |          |\n",
            "|    fps             | 676      |\n",
            "|    iterations      | 1        |\n",
            "|    time_elapsed    | 3        |\n",
            "|    total_timesteps | 2048     |\n",
            "---------------------------------\n",
            "----------------------------------------\n",
            "| rollout/                |            |\n",
            "|    ep_len_mean          | 9          |\n",
            "|    ep_rew_mean          | 11.3       |\n",
            "| time/                   |            |\n",
            "|    fps                  | 529        |\n",
            "|    iterations           | 2          |\n",
            "|    time_elapsed         | 7          |\n",
            "|    total_timesteps      | 4096       |\n",
            "| train/                  |            |\n",
            "|    approx_kl            | 0.02671265 |\n",
            "|    clip_fraction        | 0.275      |\n",
            "|    clip_range           | 0.2        |\n",
            "|    entropy_loss         | -1.08      |\n",
            "|    explained_variance   | -0.0548    |\n",
            "|    learning_rate        | 0.0003     |\n",
            "|    loss                 | 0.658      |\n",
            "|    n_updates            | 10         |\n",
            "|    policy_gradient_loss | -0.0297    |\n",
            "|    value_loss           | 11.3       |\n",
            "----------------------------------------\n",
            "----------------------------------------\n",
            "| rollout/                |            |\n",
            "|    ep_len_mean          | 9          |\n",
            "|    ep_rew_mean          | 12.9       |\n",
            "| time/                   |            |\n",
            "|    fps                  | 435        |\n",
            "|    iterations           | 3          |\n",
            "|    time_elapsed         | 14         |\n",
            "|    total_timesteps      | 6144       |\n",
            "| train/                  |            |\n",
            "|    approx_kl            | 0.02225782 |\n",
            "|    clip_fraction        | 0.579      |\n",
            "|    clip_range           | 0.2        |\n",
            "|    entropy_loss         | -1.02      |\n",
            "|    explained_variance   | 0.812      |\n",
            "|    learning_rate        | 0.0003     |\n",
            "|    loss                 | 0.868      |\n",
            "|    n_updates            | 20         |\n",
            "|    policy_gradient_loss | -0.0755    |\n",
            "|    value_loss           | 1.6        |\n",
            "----------------------------------------\n"
          ]
        },
        {
          "output_type": "execute_result",
          "data": {
            "text/plain": [
              "<stable_baselines3.ppo.ppo.PPO at 0x7aa8948b5b10>"
            ]
          },
          "metadata": {},
          "execution_count": 11
        }
      ]
    },
    {
      "cell_type": "code",
      "source": [
        "import gradio as gr\n",
        "\n",
        "def ai_decision(state):\n",
        "    action, _ = model.predict(state)\n",
        "    return f\"AI decides to: {['Click', 'Scroll', 'Type Input'][action]}\"\n",
        "\n",
        "gr.Interface(fn=ai_decision, inputs=\"number\", outputs=\"text\").launch(share=True)\n"
      ],
      "metadata": {
        "id": "lzqjv5XStnvj"
      },
      "execution_count": null,
      "outputs": []
    }
  ]
}